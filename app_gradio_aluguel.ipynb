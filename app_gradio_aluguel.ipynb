{
 "cells": [
  {
   "cell_type": "code",
   "execution_count": 1,
   "id": "5dbb21b8",
   "metadata": {},
   "outputs": [
    {
     "name": "stderr",
     "output_type": "stream",
     "text": [
      "/home/leonardops91/.local/share/virtualenvs/modelo_aluguel-NDVvEkl9/lib/python3.13/site-packages/tqdm/auto.py:21: TqdmWarning: IProgress not found. Please update jupyter and ipywidgets. See https://ipywidgets.readthedocs.io/en/stable/user_install.html\n",
      "  from .autonotebook import tqdm as notebook_tqdm\n"
     ]
    }
   ],
   "source": [
    "import gradio as gr\n",
    "import pandas as pd\n",
    "import joblib"
   ]
  },
  {
   "cell_type": "code",
   "execution_count": 2,
   "id": "2906c6f7",
   "metadata": {},
   "outputs": [],
   "source": [
    "model = joblib.load('./modelo_aluguel.pkl')"
   ]
  },
  {
   "cell_type": "code",
   "execution_count": 3,
   "id": "8e3a68c1",
   "metadata": {},
   "outputs": [],
   "source": [
    "def predict(tamanho_m2, n_quartos, idade_casa, garagem, localizacao):\n",
    "    \n",
    "    dados = {\n",
    "    'tamanho_m2': tamanho_m2, \n",
    "    'n_quartos': n_quartos, \n",
    "    'idade_casa': idade_casa, \n",
    "    'garagem': garagem,\n",
    "    'localizacao_periferia': localizacao == 'Periferia', \n",
    "    'localizacao_suburbio': localizacao == 'Subúrbio'\n",
    "    }\n",
    "    sample = pd.DataFrame(dados, index=[1])\n",
    "    aluguel = model.predict(sample)\n",
    "    aluguel_number = round(float(aluguel[0]), 2)\n",
    "    return aluguel_number"
   ]
  },
  {
   "cell_type": "code",
   "execution_count": 4,
   "id": "13de021e",
   "metadata": {},
   "outputs": [],
   "source": [
    "demo = gr.Interface(\n",
    "    fn=predict,\n",
    "    inputs=[\n",
    "        gr.Slider(30, 300, step=1),\n",
    "        gr.Number(minimum=1, maximum=10),\n",
    "        gr.Slider(0, 50, step=1),\n",
    "        gr.Number(minimum=0, maximum=10),\n",
    "        gr.Radio(['Periferia', 'Subúrbio'])\n",
    "    ],\n",
    "    outputs=['number']\n",
    ")"
   ]
  },
  {
   "cell_type": "code",
   "execution_count": 5,
   "id": "a5c82e1b",
   "metadata": {},
   "outputs": [
    {
     "name": "stdout",
     "output_type": "stream",
     "text": [
      "* Running on local URL:  http://127.0.0.1:7860\n",
      "* To create a public link, set `share=True` in `launch()`.\n"
     ]
    },
    {
     "data": {
      "text/html": [
       "<div><iframe src=\"http://127.0.0.1:7860/\" width=\"100%\" height=\"500\" allow=\"autoplay; camera; microphone; clipboard-read; clipboard-write;\" frameborder=\"0\" allowfullscreen></iframe></div>"
      ],
      "text/plain": [
       "<IPython.core.display.HTML object>"
      ]
     },
     "metadata": {},
     "output_type": "display_data"
    },
    {
     "data": {
      "text/plain": []
     },
     "execution_count": 5,
     "metadata": {},
     "output_type": "execute_result"
    }
   ],
   "source": [
    "demo.launch()"
   ]
  },
  {
   "cell_type": "code",
   "execution_count": null,
   "id": "2f5926b5",
   "metadata": {},
   "outputs": [],
   "source": []
  }
 ],
 "metadata": {
  "kernelspec": {
   "display_name": "modelo_aluguel-NDVvEkl9",
   "language": "python",
   "name": "python3"
  },
  "language_info": {
   "codemirror_mode": {
    "name": "ipython",
    "version": 3
   },
   "file_extension": ".py",
   "mimetype": "text/x-python",
   "name": "python",
   "nbconvert_exporter": "python",
   "pygments_lexer": "ipython3",
   "version": "3.13.0"
  }
 },
 "nbformat": 4,
 "nbformat_minor": 5
}
